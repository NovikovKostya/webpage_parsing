{
 "cells": [
  {
   "cell_type": "code",
   "execution_count": 1,
   "id": "3ac026f0",
   "metadata": {},
   "outputs": [],
   "source": [
    "import logging\n",
    "\n",
    "from src.core.parse_rss_feeds import parse_rss_feeds"
   ]
  },
  {
   "cell_type": "code",
   "execution_count": 2,
   "id": "bc524216",
   "metadata": {},
   "outputs": [],
   "source": [
    "logging.getLogger().setLevel(logging.DEBUG)\n",
    "logging.basicConfig(format='%(asctime)s %(levelname)s:%(message)s', level=logging.DEBUG, datefmt='%I:%M:%S')\n",
    "\n",
    "feeds = ['https://www.investing.com/rss/news_301.rss',\n",
    "         'https://www.livemint.com/rss/news',\n",
    "         'https://www.investing.com/rss/news_25.rss',\n",
    "         'https://www.investing.com/rss/news_11.rss',\n",
    "         ]"
   ]
  },
  {
   "cell_type": "code",
   "execution_count": null,
   "id": "0de8b60e",
   "metadata": {},
   "outputs": [],
   "source": [
    "parse_rss_feeds(feeds)"
   ]
  }
 ],
 "metadata": {
  "kernelspec": {
   "display_name": "Python 3 (ipykernel)",
   "language": "python",
   "name": "python3"
  },
  "language_info": {
   "codemirror_mode": {
    "name": "ipython",
    "version": 3
   },
   "file_extension": ".py",
   "mimetype": "text/x-python",
   "name": "python",
   "nbconvert_exporter": "python",
   "pygments_lexer": "ipython3",
   "version": "3.10.11"
  }
 },
 "nbformat": 4,
 "nbformat_minor": 5
}
